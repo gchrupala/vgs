{
 "cells": [
  {
   "cell_type": "code",
   "execution_count": 1,
   "metadata": {
    "collapsed": true
   },
   "outputs": [],
   "source": [
    "import pickle\n",
    "import numpy as np\n",
    "\n",
    "####################################################################################################\n",
    "# The datafiles are here: mint.uvt.nl:/roaming/gchrupal/vgs/experiments/flickr8k-segmatch_s3_grl-3/\n",
    "####################################################################################################\n",
    "\n",
    "# Load validation sentence data\n",
    "sent = pickle.load(open(\"val_sentences.pkl\", \"rb\"))\n",
    "# Load validation embeddings\n",
    "emb  = np.load(\"val_embeddings.npy\")"
   ]
  },
  {
   "cell_type": "markdown",
   "metadata": {},
   "source": [
    "You need to install vg in order to run the cell below.\n",
    "\n",
    "```\n",
    "git clone git@github.com:gchrupala/vgs.git\n",
    "cd vgs\n",
    "python3 setup.py develop --user\n",
    "```"
   ]
  },
  {
   "cell_type": "code",
   "execution_count": 2,
   "metadata": {
    "collapsed": false
   },
   "outputs": [],
   "source": [
    "# Compute scores for paraphrase retrieval\n",
    "from vg.evaluate import paraphrase_ranking\n",
    "N = len(sent)\n",
    "correct = np.zeros((N, N)).astype(bool)"
   ]
  },
  {
   "cell_type": "code",
   "execution_count": 3,
   "metadata": {
    "collapsed": true
   },
   "outputs": [],
   "source": [
    "for i in range(N):\n",
    "    for j in range(N):\n",
    "        if sent[i]['imgid'] == sent[j]['imgid'] and i != j:\n",
    "                correct[i, j] = True"
   ]
  },
  {
   "cell_type": "code",
   "execution_count": 4,
   "metadata": {
    "collapsed": false
   },
   "outputs": [
    {
     "name": "stdout",
     "output_type": "stream",
     "text": [
      "Median rank: 20.0\n",
      "Recall @ 10: 0.1263\n"
     ]
    }
   ],
   "source": [
    "result = paraphrase_ranking(emb, correct)\n",
    "print(\"Median rank: {}\".format(np.median(result['ranks'])))\n",
    "print(\"Recall @ 10: {}\".format(np.mean(result['recall'][10])))"
   ]
  },
  {
   "cell_type": "code",
   "execution_count": 5,
   "metadata": {
    "collapsed": false
   },
   "outputs": [
    {
     "name": "stdout",
     "output_type": "stream",
     "text": [
      "[ 0.67795345  0.09924861]\n"
     ]
    }
   ],
   "source": [
    "from sklearn.decomposition import PCA\n",
    "pca = PCA(n_components=2)\n",
    "X = pca.fit_transform(emb)\n",
    "print(pca.explained_variance_)"
   ]
  },
  {
   "cell_type": "code",
   "execution_count": 6,
   "metadata": {
    "collapsed": false
   },
   "outputs": [
    {
     "name": "stdout",
     "output_type": "stream",
     "text": [
      "Median rank: 10.0\n",
      "Recall @ 10: 0.2077\n"
     ]
    }
   ],
   "source": [
    "# Results for just the 2D projected embeddings\n",
    "result = paraphrase_ranking(X, correct)\n",
    "print(\"Median rank: {}\".format(np.median(result['ranks'])))\n",
    "print(\"Recall @ 10: {}\".format(np.mean(result['recall'][10])))"
   ]
  },
  {
   "cell_type": "code",
   "execution_count": 7,
   "metadata": {
    "collapsed": false
   },
   "outputs": [
    {
     "name": "stdout",
     "output_type": "stream",
     "text": [
      "Median rank: 1185.0\n",
      "Recall @ 10: 0.00285\n"
     ]
    }
   ],
   "source": [
    "# Results for just the first PC\n",
    "result = paraphrase_ranking(X[:,:1], correct)\n",
    "print(\"Median rank: {}\".format(np.median(result['ranks'])))\n",
    "print(\"Recall @ 10: {}\".format(np.mean(result['recall'][10])))"
   ]
  },
  {
   "cell_type": "code",
   "execution_count": 8,
   "metadata": {
    "collapsed": false
   },
   "outputs": [
    {
     "name": "stdout",
     "output_type": "stream",
     "text": [
      "Median rank: 2152.5\n",
      "Recall @ 10: 0.00115\n"
     ]
    }
   ],
   "source": [
    "# Results for just the second PC\n",
    "result = paraphrase_ranking(X[:,1:], correct)\n",
    "print(\"Median rank: {}\".format(np.median(result['ranks'])))\n",
    "print(\"Recall @ 10: {}\".format(np.mean(result['recall'][10])))"
   ]
  },
  {
   "cell_type": "code",
   "execution_count": 9,
   "metadata": {
    "collapsed": false
   },
   "outputs": [
    {
     "name": "stdout",
     "output_type": "stream",
     "text": [
      "PC1\n",
      "Median rank: 10.0\n",
      "Recall @ 10: 0.21705\n",
      "PC2\n",
      "Median rank: 25.0\n",
      "Recall @ 10: 0.09165\n"
     ]
    }
   ],
   "source": [
    "# Hmm maybe we need euclidean with just a single dim\n",
    "print(\"PC1\")\n",
    "result = paraphrase_ranking(X[:,0:], correct, metric='euclidean')\n",
    "print(\"Median rank: {}\".format(np.median(result['ranks'])))\n",
    "print(\"Recall @ 10: {}\".format(np.mean(result['recall'][10])))\n",
    "print(\"PC2\")\n",
    "result = paraphrase_ranking(X[:,1:], correct, metric='euclidean')\n",
    "print(\"Median rank: {}\".format(np.median(result['ranks'])))\n",
    "print(\"Recall @ 10: {}\".format(np.mean(result['recall'][10])))"
   ]
  },
  {
   "cell_type": "code",
   "execution_count": 10,
   "metadata": {
    "collapsed": false
   },
   "outputs": [
    {
     "name": "stdout",
     "output_type": "stream",
     "text": [
      "Populating the interactive namespace from numpy and matplotlib\n"
     ]
    }
   ],
   "source": [
    "%pylab inline"
   ]
  },
  {
   "cell_type": "code",
   "execution_count": 11,
   "metadata": {
    "collapsed": false
   },
   "outputs": [
    {
     "data": {
      "text/plain": [
       "<matplotlib.collections.PathCollection at 0x7f970d7d4080>"
      ]
     },
     "execution_count": 11,
     "metadata": {},
     "output_type": "execute_result"
    },
    {
     "name": "stderr",
     "output_type": "stream",
     "text": [
      "/usr/lib/python3/dist-packages/matplotlib/collections.py:571: FutureWarning: elementwise comparison failed; returning scalar instead, but in the future will perform elementwise comparison\n",
      "  if self._edgecolors == str('face'):\n"
     ]
    },
    {
     "data": {
      "image/png": "[encoded data removed]",
      "text/plain": [
       "<matplotlib.figure.Figure at 0x7f970d7e8b38>"
      ]
     },
     "metadata": {},
     "output_type": "display_data"
    }
   ],
   "source": [
    "# What does the PCA space look like\n",
    "\n",
    "scatter(X[:, 0], X[:,1], alpha=0.3)"
   ]
  },
  {
   "cell_type": "code",
   "execution_count": 21,
   "metadata": {
    "collapsed": false
   },
   "outputs": [
    {
     "name": "stdout",
     "output_type": "stream",
     "text": [
      "the boy laying face down on a skateboard is being pushed along the ground by another boy .\n",
      "False 6193 flickr8k_72 0.999750289777 A white dog with beige spots is running through a field .\n",
      "False 6678 flickr8k_181 0.999716008736 A large blue building has black smoke billowing out and a fire engine sits in front .\n",
      "False 6862 flickr8k_22 0.983007153687 With the sun reflecting off the water , a man is sitting in a boat and rowing .\n",
      "False 6813 flickr8k_17 0.787329813233 The dog is rolling on its back on the grass with its mouth wide open .\n",
      "False 6042 flickr8k_57 0.645235010928 A young boy and a young girl walking towards each other\n",
      "False 6043 flickr8k_109 0.644554972974 A black dog with a red collar is jumping out of the water .\n",
      "False 6044 flickr8k_96 0.644154229255 Two people jump up and down on a cliff overlooking a valley .\n",
      "False 6042 flickr8k_70 0.643926331109 A little girl and boy play Frisbee together in a grassy area .\n",
      "False 6042 flickr8k_7 0.643843830704 A little boy and a little girl playing together outside .\n",
      "False 6041 flickr8k_49 0.642811922464 A woman in a blue jacket is riding a bicycle on a woodland path .\n",
      "False 6043 flickr8k_19 0.642697317125 A black dog with a red collar is jumping in the water .\n",
      "False 6044 flickr8k_91 0.642583748414 Two people are running at the top of a mountain .\n",
      "False 6043 flickr8k_45 0.642107480073 Black dog with red collar splashing in water\n",
      "Counter({6042: 3, 6043: 3, 6044: 2, 6193: 1, 6678: 1, 6041: 1, 6813: 1, 6862: 1})\n",
      "\n",
      "A little boy wearing a red wristband grins as he holds something .\n",
      "False 6592 flickr8k_7 1.0 A woman sits on a bench reading a newspaper .\n",
      "False 6594 flickr8k_67 1.0 A lone boat sitting in the water .\n",
      "False 6110 flickr8k_127 0.99999999995 A boy jumps into a pool while a girl watches .\n",
      "False 6039 flickr8k_17 0.99999999994 seven children are playing on swings in a park .\n",
      "False 6594 flickr8k_19 0.999999999868 A boat is on the water , with mountains in the background .\n",
      "False 6527 flickr8k_49 0.999999999632 a man snoring\n",
      "True 6040 flickr8k_2 0.999999999309 A young boy smiling with something in his hand\n",
      "False 6030 flickr8k_23 0.999999998767 Two men in red robes performing martial arts .\n",
      "False 6118 flickr8k_70 0.999999998419 A dog with a Frisbee in its mouth is running through snow .\n",
      "False 6593 flickr8k_11 0.999999998341 A man flipped off of a white water raft .\n",
      "False 6041 flickr8k_7 0.999999997959 A person is riding their bike on a trail next to the woods .\n",
      "False 6527 flickr8k_2 0.999999996976 a bearded man takes a nap .\n",
      "False 6111 flickr8k_37 0.999999994633 Two young girls on a playground .\n",
      "Counter({6594: 2, 6527: 2, 6592: 1, 6593: 1, 6030: 1, 6118: 1, 6039: 1, 6040: 1, 6041: 1, 6111: 1, 6110: 1})\n",
      "\n",
      "A brindle pitbull holds a dirt bike tire in its mouth .\n",
      "False 6082 flickr8k_27 0.999999999548 A lady in red gloves on ski 's has four people behind her .\n",
      "False 6083 flickr8k_61 0.999999996918 A big , black dog with a red collar runs in the water .\n",
      "False 6032 flickr8k_14 0.999999959136 Two women are playing a racquet game on the beach .\n",
      "False 6081 flickr8k_87 0.999999959098 A dog walks across a puddle of water in Las Vegas .\n",
      "False 6032 flickr8k_123 0.999999903092 Two women on a beach .\n",
      "False 6034 flickr8k_27 0.999999821224 A brown dog and a black and white dog stand beside a hole in the dirt .\n",
      "False 6033 flickr8k_10 0.999999818931 A brown dog running through tall grass .\n",
      "False 6033 flickr8k_42 0.999999799022 A black , brown , and tan dog jumps at the camera .\n",
      "True 6080 flickr8k_16 0.999999795471 A dog attempts to pick up a large tire with its mouth .\n",
      "False 6034 flickr8k_20 0.999999761185 A three legged black and white dog running behind a brown dog with a red bandanna .\n",
      "False 6032 flickr8k_14 0.999999706317 Two women in bikinis play on the beach .\n",
      "False 6082 flickr8k_114 0.999999675782 A group of skiers head up an incline in the snow .\n",
      "False 6032 flickr8k_41 0.999999493757 Two people play on the beach .\n",
      "Counter({6032: 4, 6082: 2, 6033: 2, 6034: 2, 6081: 1, 6083: 1, 6080: 1})\n",
      "\n",
      "a dirt biker stands in the sunset .\n",
      "False 6119 flickr8k_13 0.999999977405 People are sitting at desks in a library .\n",
      "False 6235 flickr8k_49 0.999999952796 A girl is playing on a swing .\n",
      "True 6120 flickr8k_12 0.999999937655 The man sat on the dirt bike as the sun sets in the distance .\n",
      "False 6999 flickr8k_53 0.999999925682 A girl playing is a pile of colorful balls .\n",
      "False 6999 flickr8k_7 0.999999902419 A small girl is playing in a ball pit\n",
      "False 6074 flickr8k_132 0.999999883937 Man trying to guide a kit in the desert .\n",
      "False 6073 flickr8k_7 0.999999826289 Small boy lying on his stomach on the grass .\n",
      "False 6119 flickr8k_91 0.999999739095 Person sitting at a desk in a library .\n",
      "False 6076 flickr8k_128 0.99999972971 The boy hits the blue and white soccer ball with his knee .\n",
      "False 6999 flickr8k_123 0.999999708233 A little girl plays in a ball pit .\n",
      "False 6076 flickr8k_14 0.999999683874 A boy hitting a soccer ball with his chest .\n",
      "False 6999 flickr8k_24 0.999999683666 A little girl plays in a pit of colorful balls .\n",
      "False 6074 flickr8k_41 0.999999569021 a man holds his parachute .\n",
      "Counter({6999: 4, 6119: 2, 6074: 2, 6076: 2, 6073: 1, 6120: 1, 6235: 1})\n",
      "\n",
      "people are skiing down a snow covered hill\n",
      "False 6907 flickr8k_19 0.999999999997 Two young girls are taking a picture of themselves with a camera .\n",
      "False 6906 flickr8k_19 0.999999999959 A dog is about to catch a treat in his mouth .\n",
      "False 6335 flickr8k_5 0.999999999954 Two boys rollerblading .\n",
      "False 6768 flickr8k_19 0.999999996494 A man in a hat is making his way through a store .\n",
      "False 6161 flickr8k_49 0.999999994359 A skateboarder skates on a white wall near the street .\n",
      "False 6130 flickr8k_7 0.999999987292 A young man rides a skateboard along a metal pole .\n",
      "False 6843 flickr8k_10 0.999999984242 A person has ridden their bicycle into the air .\n",
      "False 6333 flickr8k_3 0.999999977546 A dog is running through a very wooded area with large white flowers .\n",
      "False 6907 flickr8k_65 0.999999975384 Two blonde girls are taking a picture of themselves .\n",
      "False 6769 flickr8k_14 0.999999969341 White greyhound racing as dog number 1 .\n",
      "False 6129 flickr8k_50 0.999999958222 The brown dog is running outside on the grass .\n",
      "False 6130 flickr8k_43 0.999999955322 A man does a skateboard trick on snowy ground .\n",
      "False 6128 flickr8k_17 0.999999952866 The legs of a child playing hopscotch .\n",
      "Counter({6130: 2, 6907: 2, 6768: 1, 6161: 1, 6843: 1, 6129: 1, 6769: 1, 6906: 1, 6128: 1, 6333: 1, 6335: 1})\n",
      "\n"
     ]
    }
   ],
   "source": [
    "# The retrieval scores are pretty decent\n",
    "# Let's see some nearest neighbors\n",
    "from collections import Counter\n",
    "from sklearn.metrics.pairwise import cosine_similarity\n",
    "sim = cosine_similarity(X)\n",
    "for i in range(0, 1000, 200):\n",
    "    count = Counter()\n",
    "    print(sent[i]['raw'])\n",
    "    for k in range(1, 15):\n",
    "        j = sim[i].argsort()[-k]\n",
    "        if i != j:\n",
    "            print(correct[i][j], sent[j]['imgid'], sent[j]['speaker'], sim[i,j], sent[j]['raw'])\n",
    "            count.update([sent[j]['imgid']])\n",
    "    print(count)\n",
    "    print()\n",
    "    "
   ]
  },
  {
   "cell_type": "code",
   "execution_count": 13,
   "metadata": {
    "collapsed": false
   },
   "outputs": [
    {
     "name": "stdout",
     "output_type": "stream",
     "text": [
      "(0.062939351702091653, 8.4368629742701995e-06)\n",
      "(0.53029651989930615, 0.0)\n"
     ]
    }
   ],
   "source": [
    "# How correlated are these components with utterance length?\n",
    "import scipy.stats\n",
    "L = np.array([s['audio'].shape[0] for s in sent])\n",
    "print(scipy.stats.pearsonr(X[:,0], L))\n",
    "print(scipy.stats.pearsonr(X[:,1], L))"
   ]
  },
  {
   "cell_type": "code",
   "execution_count": 14,
   "metadata": {
    "collapsed": false
   },
   "outputs": [
    {
     "name": "stdout",
     "output_type": "stream",
     "text": [
      "Median rank: 752.0\n",
      "Recall @ 10: 0.0018\n"
     ]
    }
   ],
   "source": [
    "# Results for utterance length\n",
    "result = paraphrase_ranking(L.reshape((len(L), 1)), correct, metric='euclidean')\n",
    "print(\"Median rank: {}\".format(np.median(result['ranks'])))\n",
    "print(\"Recall @ 10: {}\".format(np.mean(result['recall'][10])))"
   ]
  },
  {
   "cell_type": "code",
   "execution_count": 56,
   "metadata": {
    "collapsed": false
   },
   "outputs": [],
   "source": [
    "# We will pick N random utterances, and compute counts of image ids among 10 nearest neighbors.\n",
    "from collections import Counter\n",
    "from sklearn.metrics.pairwise import cosine_similarity, cosine_distances, euclidean_distances\n",
    "\n",
    "def purity(sim, size=100, seed=123, neighborhood=10):\n",
    "    random.seed(123)\n",
    "    maxes = []\n",
    "    maxes_r = []\n",
    "    for i in random.sample(range(len(sim)), size):\n",
    "        count = Counter()\n",
    "        for k in range(1, neighborhood):\n",
    "            j = sim[i].argsort()[k]\n",
    "            count.update([sent[j]['imgid']])\n",
    "        maxes.append(max(count.values()))\n",
    "        count = Counter()\n",
    "        for k in random.sample(range(len(sim)), neighborhood):\n",
    "            j = k\n",
    "            count.update([sent[j]['imgid']])\n",
    "        maxes_r.append(max(count.values()))\n",
    "    return numpy.array(maxes), numpy.array(maxes_r)"
   ]
  },
  {
   "cell_type": "code",
   "execution_count": 63,
   "metadata": {
    "collapsed": false
   },
   "outputs": [
    {
     "name": "stdout",
     "output_type": "stream",
     "text": [
      "Average number of paraphrases among 10 neighbors: 2.339\n",
      "Average number of paraphrases among 10 random sentences: 1.044\n"
     ]
    }
   ],
   "source": [
    "M = 10\n",
    "close, rand = purity(cosine_distances(X), size=1000, neighborhood=M)\n",
    "print(\"Average number of paraphrases among {} neighbors: {}\".format(M, numpy.mean(close)))\n",
    "print(\"Average number of paraphrases among {} random sentences: {}\".format(M, numpy.mean(rand)))"
   ]
  },
  {
   "cell_type": "code",
   "execution_count": 64,
   "metadata": {
    "collapsed": false
   },
   "outputs": [
    {
     "name": "stdout",
     "output_type": "stream",
     "text": [
      "Average number of paraphrases among 10 neighbors: 2.605\n",
      "Average number of paraphrases among 10 random sentences: 1.044\n"
     ]
    }
   ],
   "source": [
    "M = 10\n",
    "close, rand = purity(cosine_distances(emb), size=1000, neighborhood=M)\n",
    "print(\"Average number of paraphrases among {} neighbors: {}\".format(M, numpy.mean(close)))\n",
    "print(\"Average number of paraphrases among {} random sentences: {}\".format(M, numpy.mean(rand)))"
   ]
  },
  {
   "cell_type": "code",
   "execution_count": null,
   "metadata": {
    "collapsed": true
   },
   "outputs": [],
   "source": []
  }
 ],
 "metadata": {
  "kernelspec": {
   "display_name": "Python 3",
   "language": "python",
   "name": "python3"
  },
  "language_info": {
   "codemirror_mode": {
    "name": "ipython",
    "version": 3
   },
   "file_extension": ".py",
   "mimetype": "text/x-python",
   "name": "python",
   "nbconvert_exporter": "python",
   "pygments_lexer": "ipython3",
   "version": "3.4.3+"
  }
 },
 "nbformat": 4,
 "nbformat_minor": 2
}

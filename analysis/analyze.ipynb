{
 "cells": [
  {
   "cell_type": "code",
   "execution_count": 2,
   "metadata": {},
   "outputs": [],
   "source": [
    "import pickle\n",
    "import numpy as np\n",
    "import random\n",
    "random.seed(666)\n",
    "####################################################################################################\n",
    "# The datafiles are here: mint.uvt.nl:/roaming/gchrupal/vgs/experiments/flickr8k-segmatch_s3_grl-3/\n",
    "####################################################################################################\n",
    "\n",
    "# Load validation sentence data\n",
    "sent = pickle.load(open(\"val_sentences.pkl\", \"rb\"))\n",
    "# Load validation embeddings\n",
    "emb  = np.load(\"val_embeddings.npy\")\n",
    "\n",
    "# Shuffle\n",
    "ix = list(range(len(sent)))\n",
    "random.shuffle(ix)\n",
    "sent = [ sent[i] for i in ix]\n",
    "emb  = emb[np.array(ix)]"
   ]
  },
  {
   "cell_type": "markdown",
   "metadata": {},
   "source": [
    "You need to install vg in order to run the cell below.\n",
    "\n",
    "```\n",
    "git clone git@github.com:gchrupala/vgs.git\n",
    "cd vgs\n",
    "python3 setup.py develop --user\n",
    "```"
   ]
  },
  {
   "cell_type": "code",
   "execution_count": 3,
   "metadata": {},
   "outputs": [],
   "source": [
    "# Compute scores for paraphrase retrieval\n",
    "from vg.evaluate import paraphrase_ranking\n",
    "N = len(sent)\n",
    "correct = np.zeros((N, N)).astype(bool)"
   ]
  },
  {
   "cell_type": "code",
   "execution_count": 4,
   "metadata": {},
   "outputs": [],
   "source": [
    "for i in range(N):\n",
    "    for j in range(N):\n",
    "        if sent[i]['imgid'] == sent[j]['imgid'] and i != j:\n",
    "                correct[i, j] = True"
   ]
  },
  {
   "cell_type": "code",
   "execution_count": 5,
   "metadata": {},
   "outputs": [
    {
     "name": "stdout",
     "output_type": "stream",
     "text": [
      "Median rank: 20.0\n",
      "Recall @ 10: 0.1263\n"
     ]
    }
   ],
   "source": [
    "result = paraphrase_ranking(emb, correct)\n",
    "print(\"Median rank: {}\".format(np.median(result['ranks'])))\n",
    "print(\"Recall @ 10: {}\".format(np.mean(result['recall'][10])))"
   ]
  },
  {
   "cell_type": "code",
   "execution_count": 6,
   "metadata": {},
   "outputs": [
    {
     "name": "stdout",
     "output_type": "stream",
     "text": [
      "[0.6780892 0.0992684]\n"
     ]
    }
   ],
   "source": [
    "from sklearn.decomposition import PCA\n",
    "pca = PCA(n_components=2)\n",
    "X = pca.fit_transform(emb)\n",
    "print(pca.explained_variance_)"
   ]
  },
  {
   "cell_type": "code",
   "execution_count": 7,
   "metadata": {},
   "outputs": [
    {
     "name": "stdout",
     "output_type": "stream",
     "text": [
      "Median rank: 10.0\n",
      "Recall @ 10: 0.2077\n"
     ]
    }
   ],
   "source": [
    "# Results for just the 2D projected embeddings\n",
    "result = paraphrase_ranking(X, correct)\n",
    "print(\"Median rank: {}\".format(np.median(result['ranks'])))\n",
    "print(\"Recall @ 10: {}\".format(np.mean(result['recall'][10])))"
   ]
  },
  {
   "cell_type": "code",
   "execution_count": 8,
   "metadata": {},
   "outputs": [
    {
     "name": "stdout",
     "output_type": "stream",
     "text": [
      "Median rank: 536.5\n",
      "Recall @ 10: 0.0038\n"
     ]
    }
   ],
   "source": [
    "# Results for just the first PC\n",
    "result = paraphrase_ranking(X[:,:1], correct)\n",
    "print(\"Median rank: {}\".format(np.median(result['ranks'])))\n",
    "print(\"Recall @ 10: {}\".format(np.mean(result['recall'][10])))"
   ]
  },
  {
   "cell_type": "code",
   "execution_count": 9,
   "metadata": {},
   "outputs": [
    {
     "name": "stdout",
     "output_type": "stream",
     "text": [
      "Median rank: 796.0\n",
      "Recall @ 10: 0.0019\n"
     ]
    }
   ],
   "source": [
    "# Results for just the second PC\n",
    "result = paraphrase_ranking(X[:,1:], correct)\n",
    "print(\"Median rank: {}\".format(np.median(result['ranks'])))\n",
    "print(\"Recall @ 10: {}\".format(np.mean(result['recall'][10])))"
   ]
  },
  {
   "cell_type": "code",
   "execution_count": 10,
   "metadata": {},
   "outputs": [
    {
     "name": "stdout",
     "output_type": "stream",
     "text": [
      "PC1\n",
      "Median rank: 10.0\n",
      "Recall @ 10: 0.217\n",
      "PC2\n",
      "Median rank: 25.0\n",
      "Recall @ 10: 0.0916\n",
      "PC1 PC2\n",
      "Median rank: 10.0\n",
      "Recall @ 10: 0.217\n"
     ]
    }
   ],
   "source": [
    "# Hmm maybe we need euclidean with just a single dim\n",
    "print(\"PC1\")\n",
    "result = paraphrase_ranking(X[:,0:], correct, metric='euclidean')\n",
    "print(\"Median rank: {}\".format(np.median(result['ranks'])))\n",
    "print(\"Recall @ 10: {}\".format(np.mean(result['recall'][10])))\n",
    "print(\"PC2\")\n",
    "result = paraphrase_ranking(X[:,1:], correct, metric='euclidean')\n",
    "print(\"Median rank: {}\".format(np.median(result['ranks'])))\n",
    "print(\"Recall @ 10: {}\".format(np.mean(result['recall'][10])))\n",
    "print(\"PC1 PC2\")\n",
    "result = paraphrase_ranking(X[:,:], correct, metric='euclidean')\n",
    "print(\"Median rank: {}\".format(np.median(result['ranks'])))\n",
    "print(\"Recall @ 10: {}\".format(np.mean(result['recall'][10])))\n"
   ]
  },
  {
   "cell_type": "code",
   "execution_count": 11,
   "metadata": {},
   "outputs": [
    {
     "name": "stdout",
     "output_type": "stream",
     "text": [
      "Populating the interactive namespace from numpy and matplotlib\n"
     ]
    }
   ],
   "source": [
    "%pylab inline --no-import-all"
   ]
  },
  {
   "cell_type": "code",
   "execution_count": 12,
   "metadata": {},
   "outputs": [
    {
     "data": {
      "text/plain": [
       "<matplotlib.collections.PathCollection at 0x7f2f93c564e0>"
      ]
     },
     "execution_count": 12,
     "metadata": {},
     "output_type": "execute_result"
    },
    {
     "data": {
      "image/png": "[encoded data removed]",
      "text/plain": [
       "<matplotlib.figure.Figure at 0x7f2f93f0a7f0>"
      ]
     },
     "metadata": {},
     "output_type": "display_data"
    }
   ],
   "source": [
    "# What does the PCA space look like\n",
    "\n",
    "pylab.scatter(X[:, 0], X[:,1], alpha=0.3)"
   ]
  },
  {
   "cell_type": "code",
   "execution_count": 13,
   "metadata": {},
   "outputs": [
    {
     "name": "stdout",
     "output_type": "stream",
     "text": [
      "A bride folds her arms at a beach .\n",
      "True 6977 flickr8k_66 1.0 A girl wears a fancy dress and a tiara .\n",
      "False 6978 flickr8k_11 0.99999994 Someone climbing a rock upside down\n",
      "True 6977 flickr8k_21 0.9999998 a woman wear a fancy dress and tiara on a beach\n",
      "False 6978 flickr8k_49 0.99999976 Men try to climb up a large rock .\n",
      "False 6978 flickr8k_17 0.99999976 A man in red rock climbing .\n",
      "False 6978 flickr8k_4 0.9999996 Two men are climbing on an interestingly shaped rock feature .\n",
      "False 6976 flickr8k_92 0.9999993 A young girl in a striped shirt wears a bowl on her head .\n",
      "False 6976 flickr8k_9 0.99999917 A little girl smiles as she wears a white bowl on the top of her head .\n",
      "False 6976 flickr8k_111 0.9999976 A young girl sitting at a table with a bowl on her head\n",
      "False 6979 flickr8k_91 0.9999971 A man poses for a little girl , his arms outstretched , with a large church in the background .\n",
      "False 6978 flickr8k_5 0.9999932 A person in a red shirt is holding on to a natural formation .\n",
      "False 6976 flickr8k_33 0.9999884 A smiling young girl sitting at a table has an upturned bowl on her head .\n",
      "True 6977 flickr8k_71 0.9999867 A woman in white , wearing a tiara , the beach in the background .\n",
      "Counter({6978: 5, 6976: 4, 6977: 3, 6979: 1})\n",
      "\n",
      "A crowd of people views newspaper covers in Washington D.C.\n",
      "True 6186 flickr8k_6 1.0 A crowd of people in front of a memorial in Washington DC .\n",
      "False 6188 flickr8k_124 1.0 A man wearing a yellow shirt is doing a trick high in the air with his bike .\n",
      "False 6209 flickr8k_30 1.0 A man doing tricks on a bicycle .\n",
      "True 6186 flickr8k_28 0.99999994 A group dressed in wintery attire of people on a sidewalk in Washington D.C.\n",
      "False 6187 flickr8k_145 0.9999999 A black dog is carrying a white dog toy through a field of high grass .\n",
      "False 6210 flickr8k_4 0.9999999 The courtyard of a South American city with a crowd and vintage cars .\n",
      "False 6187 flickr8k_42 0.99999964 A black dog with a white toy in his mouth in a field of grass .\n",
      "False 6187 flickr8k_10 0.9999996 A black Labrador retriever in a grassy field returns with a white nubby cylinder in its mouth .\n",
      "True 6186 flickr8k_54 0.9999994 Large group of people standing outside of a building .\n",
      "False 6188 flickr8k_43 0.999999 A guy in a yellow shirt with a bike gets very high in the air .\n",
      "False 6208 flickr8k_42 0.9999986 A man , woman , and little girl walk along a boardwalk beside a calm sea .\n",
      "False 6209 flickr8k_14 0.99999857 A man falls off a brick wall while still on his bike .\n",
      "False 6209 flickr8k_17 0.99999857 A BMW rider takes a large jump off a wall .\n",
      "Counter({6186: 3, 6209: 3, 6187: 3, 6188: 2, 6210: 1, 6208: 1})\n",
      "\n",
      "A boy is jumping forwards down a water slide .\n",
      "False 6301 flickr8k_128 1.0 A boy doing a bike trick is in midair waiting to come back down .\n",
      "False 6731 flickr8k_60 1.0 The man does a trick on the fourwheeler .\n",
      "False 6729 flickr8k_9 1.0 A little kid stands and looks at the military guard who is guarding a building .\n",
      "False 6732 flickr8k_2 1.0 A family surrounds a baby in the father 's lap .\n",
      "False 6731 flickr8k_19 0.99999994 A man driving a four-wheeler off-road .\n",
      "True 6730 flickr8k_87 0.99999994 A person in swim trunks jumping down an inflatable slide\n",
      "False 6731 flickr8k_9 0.99999994 person wearing a helmet on a four wheeled bike in air\n",
      "False 6301 flickr8k_24 0.99999994 A bike rider on a ramp .\n",
      "False 6301 flickr8k_7 0.99999994 A guy on a bike goes vertical near a ramp with a grassy , hilly terrain behind him .\n",
      "False 6303 flickr8k_7 0.9999999 A man in a gray shirt and black shorts poses in front of a mountain .\n",
      "False 6303 flickr8k_6 0.9999999 A man wearing glasses stands in front of a snowy mountain .\n",
      "False 6732 flickr8k_2 0.9999999 a family gathers in the living room .\n",
      "False 6300 flickr8k_156 0.9999999 A young man is wearing a brown hat and sunglasses .\n",
      "Counter({6301: 3, 6731: 3, 6732: 2, 6303: 2, 6729: 1, 6730: 1, 6300: 1})\n",
      "\n",
      "The person is throwing a yellow object in the air while standing on sand .\n",
      "False 6384 flickr8k_24 1.0 A girl with bright red hair and black clothes is posing on a tree trunk .\n",
      "False 6384 flickr8k_11 1.0 A woman with pink hair dressed in black talks to a man .\n",
      "False 6386 flickr8k_17 1.0 Three women are standing among a group of brown dogs .\n",
      "False 6914 flickr8k_92 0.9999999 A skateboarder is doing a trick at the top of a ramp while another person watches .\n",
      "False 6912 flickr8k_17 0.9999998 Four girls are dancing in matching outfits at a street festival .\n",
      "True 6385 flickr8k_49 0.9999997 A boy with glasses on standing in the sand throws a yellow balloon in the air .\n",
      "False 6913 flickr8k_7 0.99999964 Africans gather water at an outdoor tap .\n",
      "False 6913 flickr8k_5 0.99999964 A tribal group filling water jugs in the desert .\n",
      "False 6914 flickr8k_19 0.9999996 A teenage boy does a skateboard trick on a half pipe while another boy watches from the top .\n",
      "False 6912 flickr8k_2 0.9999995 Some girls dressed in blue perform a dance .\n",
      "False 6386 flickr8k_16 0.9999995 There are 5 brown dogs on leashes with their owners nearby .\n",
      "False 6386 flickr8k_14 0.99999946 Several brown dogs of different sizes gather together .\n",
      "False 6386 flickr8k_19 0.9999994 A group of brown dogs are standing on a road with 3 people .\n",
      "Counter({6386: 4, 6384: 2, 6914: 2, 6912: 2, 6913: 2, 6385: 1})\n",
      "\n",
      "two people sit on a park bench .\n",
      "False 6641 flickr8k_19 0.9999998 a boy flings sand at a girl .\n",
      "False 6641 flickr8k_4 0.99999976 Boy flings mud at girl\n",
      "False 6754 flickr8k_52 0.99999964 A large dog sits in the grass .\n",
      "True 6642 flickr8k_108 0.9999996 Two people sit on a brick wall and talk .\n",
      "False 6754 flickr8k_52 0.99999934 A large tan dog sits on the edge of the woods .\n",
      "False 6752 flickr8k_7 0.9999987 two little kids having fun at a roller coaster\n",
      "False 6640 flickr8k_4 0.9999985 Four children climbing up a snow covered hill .\n",
      "False 6752 flickr8k_9 0.9999984 Children on a ride at an amusement park .\n",
      "False 6752 flickr8k_7 0.9999982 Two children swing around on a carnival ride .\n",
      "False 6754 flickr8k_25 0.9999981 The large brown dog is sitting on the path next to a tree .\n",
      "False 6753 flickr8k_27 0.999998 Two people in a tent near a rock wall .\n",
      "False 6753 flickr8k_17 0.9999978 Two people are in a tent near a brick wall .\n",
      "False 6641 flickr8k_7 0.99999774 A boy and a girl at the beach , throwing sand .\n",
      "Counter({6641: 3, 6754: 3, 6752: 3, 6753: 2, 6642: 1, 6640: 1})\n",
      "\n"
     ]
    }
   ],
   "source": [
    "# The retrieval scores are pretty decent\n",
    "# Let's see some nearest neighbors\n",
    "from collections import Counter\n",
    "from sklearn.metrics.pairwise import cosine_similarity\n",
    "sim = cosine_similarity(X)\n",
    "for i in range(0, 1000, 200):\n",
    "    count = Counter()\n",
    "    print(sent[i]['raw'])\n",
    "    for k in range(1, 15):\n",
    "        j = sim[i].argsort()[-k]\n",
    "        if i != j:\n",
    "            print(correct[i][j], sent[j]['imgid'], sent[j]['speaker'], sim[i,j], sent[j]['raw'])\n",
    "            count.update([sent[j]['imgid']])\n",
    "    print(count)\n",
    "    print()\n",
    "    "
   ]
  },
  {
   "cell_type": "code",
   "execution_count": 14,
   "metadata": {},
   "outputs": [
    {
     "name": "stdout",
     "output_type": "stream",
     "text": [
      "(0.06293932433534997, 8.436939261782704e-06)\n",
      "(0.5302965164901038, 0.0)\n"
     ]
    }
   ],
   "source": [
    "# How correlated are these components with utterance length?\n",
    "import scipy.stats\n",
    "L = np.array([s['audio'].shape[0] for s in sent])\n",
    "print(scipy.stats.pearsonr(X[:,0], L))\n",
    "print(scipy.stats.pearsonr(X[:,1], L))"
   ]
  },
  {
   "cell_type": "code",
   "execution_count": 15,
   "metadata": {},
   "outputs": [
    {
     "name": "stdout",
     "output_type": "stream",
     "text": [
      "Median rank: 749.0\n",
      "Recall @ 10: 0.0021\n"
     ]
    }
   ],
   "source": [
    "# Results for utterance length\n",
    "result = paraphrase_ranking(L.reshape((len(L), 1)), correct, metric='euclidean')\n",
    "print(\"Median rank: {}\".format(np.median(result['ranks'])))\n",
    "print(\"Recall @ 10: {}\".format(np.mean(result['recall'][10])))"
   ]
  },
  {
   "cell_type": "code",
   "execution_count": 16,
   "metadata": {},
   "outputs": [],
   "source": [
    "# We will pick N random utterances, and compute counts of image ids among 10 nearest neighbors.\n",
    "from collections import Counter\n",
    "from sklearn.metrics.pairwise import cosine_similarity, cosine_distances, euclidean_distances\n",
    "\n",
    "def purity(sim, size=100, seed=123, neighborhood=10):\n",
    "    random.seed(666)\n",
    "    maxes = []\n",
    "    maxes_r = []\n",
    "    for i in random.sample(range(len(sim)), size):\n",
    "        count = Counter()\n",
    "        for k in range(1, neighborhood):\n",
    "            j = sim[i].argsort()[k]\n",
    "            count.update([sent[j]['imgid']])\n",
    "        maxes.append(max(count.values()))\n",
    "        count = Counter()\n",
    "        for k in random.sample(range(len(sim)), neighborhood):\n",
    "            j = k\n",
    "            count.update([sent[j]['imgid']])\n",
    "        maxes_r.append(max(count.values()))\n",
    "    return numpy.array(maxes), numpy.array(maxes_r)"
   ]
  },
  {
   "cell_type": "code",
   "execution_count": 17,
   "metadata": {},
   "outputs": [
    {
     "name": "stdout",
     "output_type": "stream",
     "text": [
      "K M dist space rand neighbor\n",
      "1000 5 cos emb 1.007 1.055\n",
      "1000 5 cos pca 1.007 1.434\n",
      "1000 5 euc emb 1.007 1.055\n",
      "1000 5 euc pca 1.007 1.473\n",
      "1000 10 cos emb 1.043 1.229\n",
      "1000 10 cos pca 1.043 2.323\n",
      "1000 10 euc emb 1.043 1.284\n",
      "1000 10 euc pca 1.043 2.339\n",
      "1000 20 cos emb 1.144 1.656\n",
      "1000 20 cos pca 1.144 3.377\n",
      "1000 20 euc emb 1.144 1.796\n",
      "1000 20 euc pca 1.144 3.423\n"
     ]
    }
   ],
   "source": [
    "K = 1000\n",
    "Ms = [5, 10, 20]\n",
    "print(\"K M dist space rand neighbor\")\n",
    "for M in Ms: \n",
    "    for ndist, dist in [('cos',cosine_distances), ('euc', euclidean_distances)]:\n",
    "        for nspace, space in [('emb', emb), ('pca', X)]:\n",
    "            close, rand = purity(dist(space), size=K, neighborhood=M)\n",
    "            print(\"{} {} {} {} {} {}\".format(K, M, ndist, nspace, numpy.mean(rand), numpy.mean(close)))"
   ]
  },
  {
   "cell_type": "code",
   "execution_count": 50,
   "metadata": {},
   "outputs": [],
   "source": [
    "from sklearn.model_selection import train_test_split"
   ]
  },
  {
   "cell_type": "code",
   "execution_count": 51,
   "metadata": {},
   "outputs": [],
   "source": [
    "y = np.array([s['imgid'] for s in sent])"
   ]
  },
  {
   "cell_type": "code",
   "execution_count": 52,
   "metadata": {},
   "outputs": [],
   "source": [
    "X_train, X_val, y_train, y_val = train_test_split(X, y, random_state=666)"
   ]
  },
  {
   "cell_type": "code",
   "execution_count": 53,
   "metadata": {},
   "outputs": [
    {
     "name": "stdout",
     "output_type": "stream",
     "text": [
      "LinearRegression 6.052379603727065e-05\n",
      "Ridge 6.237822337906707e-05\n",
      "KNeighborsRegressor 0.3242331160372286\n",
      "RandomForestRegressor 0.24269023292986613\n"
     ]
    }
   ],
   "source": [
    "from sklearn.linear_model import LinearRegression, Ridge\n",
    "from sklearn.neighbors import KNeighborsRegressor\n",
    "from sklearn.ensemble import RandomForestRegressor\n",
    "for model in [LinearRegression(), Ridge(), KNeighborsRegressor(), RandomForestRegressor()]:    \n",
    "    model.fit(X_train, y_train)\n",
    "    print(model.__class__.__name__, model.score(X_val, y_val))"
   ]
  },
  {
   "cell_type": "markdown",
   "metadata": {},
   "source": [
    "## Single sentence per image"
   ]
  },
  {
   "cell_type": "code",
   "execution_count": 54,
   "metadata": {},
   "outputs": [],
   "source": [
    "\n",
    "Z = [] # embedding\n",
    "z = [] # label\n",
    "W = [] # PCA\n",
    "I = set()\n",
    "for i in range(len(sent)):\n",
    "    if not sent[i]['imgid'] in I:\n",
    "        I.add(sent[i]['imgid'])\n",
    "        Z.append(emb[i])\n",
    "        W.append(X[i])\n",
    "        z.append(y[i])\n",
    "Z = np.vstack(Z)\n",
    "W = np.vstack(W)\n",
    "z= np.array(z)"
   ]
  },
  {
   "cell_type": "code",
   "execution_count": 55,
   "metadata": {},
   "outputs": [
    {
     "name": "stdout",
     "output_type": "stream",
     "text": [
      "Regression in Embedding space\n",
      "LinearRegression -6806278102.769173 1472415.08\n",
      "Ridge -3.506798096774819 276.137181640625\n",
      "KNeighborsRegressor 0.007516076800295091 232.30079999999998\n",
      "RandomForestRegressor 0.010247731263614557 236.75879999999998\n",
      "\n",
      "Regression in PCA space\n",
      "LinearRegression -38.538893097484284 353.267486328125\n",
      "Ridge -13.786617669762457 308.272076171875\n",
      "KNeighborsRegressor 0.11865213697394272 216.17280000000005\n",
      "RandomForestRegressor 0.12032678919938776 208.88560000000004\n",
      "\n",
      "Classification in PCA space\n",
      "LogisticRegression 0.0 0.0\n",
      "RidgeClassifier 0.0 0.0\n",
      "KNeighborsClassifier 0.0 0.0\n",
      "RandomForestClassifier 0.0 0.0\n"
     ]
    }
   ],
   "source": [
    "Z_train, Z_val, z_train, z_val, W_train, W_val = train_test_split(Z, z, W, random_state=666)\n",
    "\n",
    "from sklearn.linear_model import LinearRegression, Ridge, LogisticRegression, RidgeClassifier\n",
    "from sklearn.neighbors import KNeighborsRegressor, KNeighborsClassifier\n",
    "from sklearn.ensemble import RandomForestRegressor, RandomForestClassifier\n",
    "from sklearn.metrics import mean_absolute_error, accuracy_score\n",
    "\n",
    "print(\"Regression in Embedding space\")\n",
    "for model in [LinearRegression(), \n",
    "              Ridge(random_state=123), \n",
    "              KNeighborsRegressor(),\n",
    "              RandomForestRegressor(random_state=123)]:    \n",
    "    model.fit(Z_train, z_train)\n",
    "    print(model.__class__.__name__, model.score(Z_val, z_val), mean_absolute_error(z_val, model.predict(Z_val)))\n",
    "print()    \n",
    "print(\"Regression in PCA space\")    \n",
    "for model in [LinearRegression(), \n",
    "              Ridge(random_state=123), \n",
    "              KNeighborsRegressor(),\n",
    "              RandomForestRegressor(random_state=123)]:    \n",
    "    model.fit(W_train, z_train)\n",
    "    print(model.__class__.__name__, model.score(W_val, z_val), mean_absolute_error(z_val, model.predict(W_val)))\n",
    "print()\n",
    "\n",
    "print(\"Classification in PCA space\")    \n",
    "for model in [LogisticRegression(), \n",
    "              RidgeClassifier(random_state=123), \n",
    "              KNeighborsClassifier(),\n",
    "              RandomForestClassifier(random_state=123)]:    \n",
    "    model.fit(W_train, z_train)\n",
    "    print(model.__class__.__name__, model.score(W_val, z_val), accuracy_score(z_val, model.predict(W_val)))\n"
   ]
  },
  {
   "cell_type": "code",
   "execution_count": 57,
   "metadata": {},
   "outputs": [
    {
     "name": "stdout",
     "output_type": "stream",
     "text": [
      "138 (0.07381336164270443, 0.019572216737380656)\n",
      "260 (0.07006138921485067, 0.026726620669299653)\n",
      "355 (0.07406264872876349, 0.01916248526510697)\n",
      "358 (0.07185198482160916, 0.023071122043443745)\n",
      "375 (0.07286650002609694, 0.021198913044832773)\n",
      "388 (0.07002421374053554, 0.0268075265433121)\n",
      "435 (0.07843284405826996, 0.013101990317097864)\n",
      "487 (0.07550783089530315, 0.016931547542745735)\n",
      "626 (0.07128972659107818, 0.024169231742298153)\n",
      "703 (0.07025419862560815, 0.02631037451212153)\n",
      "807 (0.07432448130479781, 0.01874021443989042)\n"
     ]
    }
   ],
   "source": [
    "from scipy.stats import pearsonr, spearmanr\n",
    "for i in range(Z.shape[1]):\n",
    "    corr = pearsonr(Z[:, i], z)\n",
    "    if corr[0] > 0.07:\n",
    "        print(i, corr)"
   ]
  },
  {
   "cell_type": "markdown",
   "metadata": {},
   "source": [
    "## Under arbitrary relabeling"
   ]
  },
  {
   "cell_type": "code",
   "execution_count": 28,
   "metadata": {},
   "outputs": [],
   "source": [
    "from vg.simple_data import IdTable\n",
    "\n",
    "LE = IdTable()\n",
    "z = [ LE.to_id(zi) for zi in z ]"
   ]
  },
  {
   "cell_type": "code",
   "execution_count": 29,
   "metadata": {},
   "outputs": [
    {
     "name": "stdout",
     "output_type": "stream",
     "text": [
      "Regression in Embedding space\n",
      "LinearRegression -110429533539.9654 5956476.66\n",
      "Ridge -0.5450354906004806 254.82775732421874\n",
      "KNeighborsRegressor -0.1732412189932684 253.06959999999998\n",
      "RandomForestRegressor -0.21471261054998328 262.2544\n",
      "\n",
      "Regression in PCA space\n",
      "LinearRegression -1.4850111215441104 263.2773299560547\n",
      "Ridge -0.5786065124873094 255.14419458007814\n",
      "KNeighborsRegressor -0.2248640770736856 257.2688\n",
      "RandomForestRegressor -0.35538279280180696 269.944\n",
      "\n",
      "Classification in PCA space\n",
      "LogisticRegression 0.0 0.0\n",
      "RidgeClassifier 0.0 0.0\n",
      "KNeighborsClassifier 0.0 0.0\n",
      "RandomForestClassifier 0.0 0.0\n"
     ]
    }
   ],
   "source": [
    "Z_train, Z_val, z_train, z_val, W_train, W_val = train_test_split(Z, z, W, random_state=666)\n",
    "\n",
    "from sklearn.linear_model import LinearRegression, Ridge, LogisticRegression, RidgeClassifier\n",
    "from sklearn.neighbors import KNeighborsRegressor, KNeighborsClassifier\n",
    "from sklearn.ensemble import RandomForestRegressor, RandomForestClassifier\n",
    "from sklearn.metrics import mean_absolute_error, accuracy_score\n",
    "\n",
    "print(\"Regression in Embedding space\")\n",
    "for model in [LinearRegression(), \n",
    "              Ridge(random_state=123), \n",
    "              KNeighborsRegressor(),\n",
    "              RandomForestRegressor(random_state=123)]:    \n",
    "    model.fit(Z_train, z_train)\n",
    "    print(model.__class__.__name__, model.score(Z_val, z_val), mean_absolute_error(z_val, model.predict(Z_val)))\n",
    "print()    \n",
    "print(\"Regression in PCA space\")    \n",
    "for model in [LinearRegression(), \n",
    "              Ridge(random_state=123), \n",
    "              KNeighborsRegressor(),\n",
    "              RandomForestRegressor(random_state=123)]:    \n",
    "    model.fit(W_train, z_train)\n",
    "    print(model.__class__.__name__, model.score(W_val, z_val), mean_absolute_error(z_val, model.predict(W_val)))\n",
    "print()\n",
    "\n",
    "print(\"Classification in PCA space\")    \n",
    "for model in [LogisticRegression(), \n",
    "              RidgeClassifier(random_state=123), \n",
    "              KNeighborsClassifier(),\n",
    "              RandomForestClassifier(random_state=123)]:    \n",
    "    model.fit(W_train, z_train)\n",
    "    print(model.__class__.__name__, model.score(W_val, z_val), accuracy_score(z_val, model.predict(W_val)))\n"
   ]
  },
  {
   "cell_type": "code",
   "execution_count": null,
   "metadata": {},
   "outputs": [],
   "source": []
  }
 ],
 "metadata": {
  "kernelspec": {
   "display_name": "Python 3",
   "language": "python",
   "name": "python3"
  },
  "language_info": {
   "codemirror_mode": {
    "name": "ipython",
    "version": 3
   },
   "file_extension": ".py",
   "mimetype": "text/x-python",
   "name": "python",
   "nbconvert_exporter": "python",
   "pygments_lexer": "ipython3",
   "version": "3.6.3"
  }
 },
 "nbformat": 4,
 "nbformat_minor": 2
}

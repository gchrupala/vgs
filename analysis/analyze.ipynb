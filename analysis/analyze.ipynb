{
 "cells": [
  {
   "cell_type": "code",
   "execution_count": 13,
   "metadata": {},
   "outputs": [],
   "source": [
    "import pickle\n",
    "import numpy as np\n",
    "# Load validation sentence data\n",
    "sent = pickle.load(open(\"val_sentences.pkl\", \"rb\"))\n",
    "# Load validation embeddings\n",
    "emb  = np.load(\"val_embeddings.npy\")"
   ]
  },
  {
   "cell_type": "markdown",
   "metadata": {},
   "source": [
    "You need to install vg in order to run the cell below.\n",
    "\n",
    "```\n",
    "git clone git@github.com:gchrupala/vgs.git\n",
    "cd vgs\n",
    "python3 setup.py develop --user\n",
    "```"
   ]
  },
  {
   "cell_type": "code",
   "execution_count": 14,
   "metadata": {},
   "outputs": [],
   "source": [
    "# Compute scores for paraphrase retrieval\n",
    "from vg.evaluate import paraphrase_ranking\n",
    "N = len(sent)\n",
    "correct = np.zeros((N, N)).astype(bool)"
   ]
  },
  {
   "cell_type": "code",
   "execution_count": 15,
   "metadata": {},
   "outputs": [],
   "source": [
    "for i in range(N):\n",
    "    for j in range(N):\n",
    "        if sent[i]['imgid'] == sent[j]['imgid'] and i != j:\n",
    "                correct[i, j] = True"
   ]
  },
  {
   "cell_type": "code",
   "execution_count": 16,
   "metadata": {},
   "outputs": [
    {
     "name": "stdout",
     "output_type": "stream",
     "text": [
      "Median rank: 20.0\n",
      "Recall @ 10: 0.1263\n"
     ]
    }
   ],
   "source": [
    "result = paraphrase_ranking(emb, correct)\n",
    "print(\"Median rank: {}\".format(np.median(result['ranks'])))\n",
    "print(\"Recall @ 10: {}\".format(np.mean(result['recall'][10])))"
   ]
  },
  {
   "cell_type": "code",
   "execution_count": 17,
   "metadata": {},
   "outputs": [
    {
     "name": "stdout",
     "output_type": "stream",
     "text": [
      "[0.6780892  0.09926844]\n"
     ]
    }
   ],
   "source": [
    "from sklearn.decomposition import PCA\n",
    "pca = PCA(n_components=2)\n",
    "X = pca.fit_transform(emb)\n",
    "print(pca.explained_variance_)"
   ]
  },
  {
   "cell_type": "code",
   "execution_count": 18,
   "metadata": {},
   "outputs": [
    {
     "name": "stdout",
     "output_type": "stream",
     "text": [
      "Median rank: 10.0\n",
      "Recall @ 10: 0.20775\n"
     ]
    }
   ],
   "source": [
    "# Results for just the 2D projected embeddings\n",
    "result = paraphrase_ranking(X, correct)\n",
    "print(\"Median rank: {}\".format(np.median(result['ranks'])))\n",
    "print(\"Recall @ 10: {}\".format(np.mean(result['recall'][10])))"
   ]
  },
  {
   "cell_type": "code",
   "execution_count": 19,
   "metadata": {},
   "outputs": [
    {
     "name": "stdout",
     "output_type": "stream",
     "text": [
      "Populating the interactive namespace from numpy and matplotlib\n"
     ]
    }
   ],
   "source": [
    "%pylab inline"
   ]
  },
  {
   "cell_type": "code",
   "execution_count": 20,
   "metadata": {},
   "outputs": [
    {
     "data": {
      "text/plain": [
       "<matplotlib.collections.PathCollection at 0x7f64ec6204e0>"
      ]
     },
     "execution_count": 20,
     "metadata": {},
     "output_type": "execute_result"
    },
    {
     "data": {
      "image/png": "[encoded data removed]",
      "text/plain": [
       "<matplotlib.figure.Figure at 0x7f64ec665d68>"
      ]
     },
     "metadata": {},
     "output_type": "display_data"
    }
   ],
   "source": [
    "# What does the PCA space look like\n",
    "\n",
    "scatter(X[:, 0], X[:,1], alpha=0.3)"
   ]
  },
  {
   "cell_type": "code",
   "execution_count": 21,
   "metadata": {},
   "outputs": [
    {
     "name": "stdout",
     "output_type": "stream",
     "text": [
      "the boy laying face down on a skateboard is being pushed along the ground by another boy .\n",
      "False 0.99975026 A white dog with beige spots is running through a field .\n",
      "False 0.99971604 A large blue building has black smoke billowing out and a fire engine sits in front .\n",
      "False 0.98300713 With the sun reflecting off the water , a man is sitting in a boat and rowing .\n",
      "False 0.7873286 The dog is rolling on its back on the grass with its mouth wide open .\n",
      "False 0.6452333 A young boy and a young girl walking towards each other\n",
      "False 0.6445533 A black dog with a red collar is jumping out of the water .\n",
      "False 0.6441525 Two people jump up and down on a cliff overlooking a valley .\n",
      "False 0.6439247 A little girl and boy play Frisbee together in a grassy area .\n",
      "False 0.6438421 A little boy and a little girl playing together outside .\n",
      "False 0.64281017 A woman in a blue jacket is riding a bicycle on a woodland path .\n",
      "False 0.64269555 A black dog with a red collar is jumping in the water .\n",
      "False 0.6425821 Two people are running at the top of a mountain .\n",
      "False 0.64210594 Black dog with red collar splashing in water\n",
      "\n",
      "A little boy wearing a red wristband grins as he holds something .\n",
      "False 1.0 Four people walking across thick snow during a sunset .\n",
      "False 1.0 Two girls in pink are playing on yellow playground bars .\n",
      "False 1.0 A dog with a Frisbee in the snow .\n",
      "False 1.0 seven children are playing on swings in a park .\n",
      "False 1.0 A woman sits on a bench reading a newspaper .\n",
      "False 1.0 Two young girls on a playground .\n",
      "False 1.0 Two girls on a jungle gym .\n",
      "False 1.0 A dog with a Frisbee in its mouth is running through snow .\n",
      "False 0.99999994 A person is riding their bike on a trail next to the woods .\n",
      "False 0.99999994 A boat is on the water , with mountains in the background .\n",
      "False 0.99999994 A boy jumps into a pool while a girl watches .\n",
      "False 0.99999994 A lone boat sitting in the water .\n",
      "False 0.99999994 a person wearing a white hooded sweatshirt covered with a blanket sitting on a bench reading\n",
      "\n",
      "A brindle pitbull holds a dirt bike tire in its mouth .\n",
      "False 1.0000001 A lady in red gloves on ski 's has four people behind her .\n",
      "False 1.0 A big , black dog with a red collar runs in the water .\n",
      "False 1.0 Two women are playing a racquet game on the beach .\n",
      "False 1.0 A dog walks across a puddle of water in Las Vegas .\n",
      "False 0.99999994 Two women on a beach .\n",
      "False 0.9999998 A brown dog and a black and white dog stand beside a hole in the dirt .\n",
      "False 0.9999998 A brown dog running through tall grass .\n",
      "False 0.99999976 A black , brown , and tan dog jumps at the camera .\n",
      "True 0.99999976 A dog attempts to pick up a large tire with its mouth .\n",
      "False 0.99999976 Two women in bikinis play on the beach .\n",
      "False 0.99999976 A three legged black and white dog running behind a brown dog with a red bandanna .\n",
      "False 0.99999964 A group of skiers head up an incline in the snow .\n",
      "False 0.9999994 Two people play on the beach .\n",
      "\n",
      "a dirt biker stands in the sunset .\n",
      "False 1.0 People are sitting at desks in a library .\n",
      "False 0.99999994 A girl is playing on a swing .\n",
      "True 0.99999994 The man sat on the dirt bike as the sun sets in the distance .\n",
      "False 0.9999999 A small girl is playing in a ball pit\n",
      "False 0.9999999 A girl playing is a pile of colorful balls .\n",
      "False 0.9999999 Man trying to guide a kit in the desert .\n",
      "False 0.9999999 Small boy lying on his stomach on the grass .\n",
      "False 0.99999976 The boy hits the blue and white soccer ball with his knee .\n",
      "False 0.99999976 A little girl plays in a ball pit .\n",
      "False 0.99999976 Person sitting at a desk in a library .\n",
      "False 0.9999997 A boy hitting a soccer ball with his chest .\n",
      "False 0.99999964 A little girl plays in a pit of colorful balls .\n",
      "False 0.9999996 a man holds his parachute .\n",
      "\n",
      "people are skiing down a snow covered hill\n",
      "False 1.0 A golden dog is running across the grass chasing a white toy on the ground .\n",
      "False 1.0 Two young girls are taking a picture of themselves with a camera .\n",
      "False 1.0 A person has ridden their bicycle into the air .\n",
      "False 1.0 A rollerblader on a concrete form .\n",
      "False 1.0 A dog is about to catch a treat in his mouth .\n",
      "False 1.0 The dog is catching a treat .\n",
      "False 1.0 A little girl walking down the sidewalk .\n",
      "False 1.0 A young man rides a skateboard along a metal pole .\n",
      "False 1.0 Two blonde girls are taking a picture of themselves .\n",
      "False 1.0 A skateboarder skates on a white wall near the street .\n",
      "False 1.0 A man in a hat is making his way through a store .\n",
      "False 1.0 Six people inside a store .\n",
      "False 0.99999994 Someone riding a bicycle is up in the air over a dirt and hill trail .\n",
      "\n"
     ]
    }
   ],
   "source": [
    "# The retrieval scores are pretty decent\n",
    "# Let's see some nearest neighbors\n",
    "from sklearn.metrics.pairwise import cosine_similarity\n",
    "sim = cosine_similarity(X)\n",
    "for i in range(0, 1000, 200):\n",
    "    print(sent[i]['raw'])\n",
    "    for k in range(1, 15):\n",
    "        j = sim[i].argsort()[-k]\n",
    "        if i != j:\n",
    "            print(correct[i][j], sim[i,j], sent[j]['raw'])\n",
    "    print()\n",
    "    "
   ]
  },
  {
   "cell_type": "code",
   "execution_count": null,
   "metadata": {},
   "outputs": [],
   "source": []
  },
  {
   "cell_type": "code",
   "execution_count": null,
   "metadata": {},
   "outputs": [],
   "source": []
  }
 ],
 "metadata": {
  "kernelspec": {
   "display_name": "Python 3",
   "language": "python",
   "name": "python3"
  },
  "language_info": {
   "codemirror_mode": {
    "name": "ipython",
    "version": 3
   },
   "file_extension": ".py",
   "mimetype": "text/x-python",
   "name": "python",
   "nbconvert_exporter": "python",
   "pygments_lexer": "ipython3",
   "version": "3.6.3"
  }
 },
 "nbformat": 4,
 "nbformat_minor": 2
}

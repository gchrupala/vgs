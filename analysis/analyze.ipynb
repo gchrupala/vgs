{
 "cells": [
  {
   "cell_type": "code",
   "execution_count": 1,
   "metadata": {},
   "outputs": [],
   "source": [
    "import pickle\n",
    "import numpy as np\n",
    "import random\n",
    "random.seed(666)\n",
    "####################################################################################################\n",
    "# The datafiles are here: mint.uvt.nl:/roaming/gchrupal/vgs/experiments/flickr8k-segmatch_s3_grl-3/\n",
    "####################################################################################################\n",
    "\n",
    "# Load validation sentence data\n",
    "sent = pickle.load(open(\"val_sentences.pkl\", \"rb\"))\n",
    "# Load validation embeddings\n",
    "emb  = np.load(\"val_embeddings.npy\")\n",
    "\n",
    "# Shuffle\n",
    "ix = list(range(len(sent)))\n",
    "random.shuffle(ix)\n",
    "sent = [ sent[i] for i in ix]\n",
    "emb  = emb[np.array(ix)]"
   ]
  },
  {
   "cell_type": "markdown",
   "metadata": {},
   "source": [
    "You need to install vg in order to run the cell below.\n",
    "\n",
    "```\n",
    "git clone git@github.com:gchrupala/vgs.git\n",
    "cd vgs\n",
    "python3 setup.py develop --user\n",
    "```"
   ]
  },
  {
   "cell_type": "code",
   "execution_count": 2,
   "metadata": {},
   "outputs": [],
   "source": [
    "# Compute scores for paraphrase retrieval\n",
    "from vg.evaluate import paraphrase_ranking\n",
    "N = len(sent)\n",
    "correct = np.zeros((N, N)).astype(bool)"
   ]
  },
  {
   "cell_type": "code",
   "execution_count": 3,
   "metadata": {},
   "outputs": [],
   "source": [
    "for i in range(N):\n",
    "    for j in range(N):\n",
    "        if sent[i]['imgid'] == sent[j]['imgid'] and i != j:\n",
    "                correct[i, j] = True"
   ]
  },
  {
   "cell_type": "code",
   "execution_count": 4,
   "metadata": {},
   "outputs": [
    {
     "name": "stdout",
     "output_type": "stream",
     "text": [
      "Median rank: 20.0\n",
      "Recall @ 10: 0.1263\n"
     ]
    }
   ],
   "source": [
    "result = paraphrase_ranking(emb, correct)\n",
    "print(\"Median rank: {}\".format(np.median(result['ranks'])))\n",
    "print(\"Recall @ 10: {}\".format(np.mean(result['recall'][10])))"
   ]
  },
  {
   "cell_type": "code",
   "execution_count": 5,
   "metadata": {},
   "outputs": [
    {
     "name": "stdout",
     "output_type": "stream",
     "text": [
      "[0.6780892  0.09926847]\n"
     ]
    }
   ],
   "source": [
    "from sklearn.decomposition import PCA\n",
    "pca = PCA(n_components=2)\n",
    "X = pca.fit_transform(emb)\n",
    "print(pca.explained_variance_)"
   ]
  },
  {
   "cell_type": "code",
   "execution_count": 6,
   "metadata": {},
   "outputs": [
    {
     "name": "stdout",
     "output_type": "stream",
     "text": [
      "Median rank: 10.0\n",
      "Recall @ 10: 0.20775\n"
     ]
    }
   ],
   "source": [
    "# Results for just the 2D projected embeddings\n",
    "result = paraphrase_ranking(X, correct)\n",
    "print(\"Median rank: {}\".format(np.median(result['ranks'])))\n",
    "print(\"Recall @ 10: {}\".format(np.mean(result['recall'][10])))"
   ]
  },
  {
   "cell_type": "code",
   "execution_count": 7,
   "metadata": {},
   "outputs": [
    {
     "name": "stdout",
     "output_type": "stream",
     "text": [
      "Median rank: 536.5\n",
      "Recall @ 10: 0.0038\n"
     ]
    }
   ],
   "source": [
    "# Results for just the first PC\n",
    "result = paraphrase_ranking(X[:,:1], correct)\n",
    "print(\"Median rank: {}\".format(np.median(result['ranks'])))\n",
    "print(\"Recall @ 10: {}\".format(np.mean(result['recall'][10])))"
   ]
  },
  {
   "cell_type": "code",
   "execution_count": 8,
   "metadata": {},
   "outputs": [
    {
     "name": "stdout",
     "output_type": "stream",
     "text": [
      "Median rank: 796.0\n",
      "Recall @ 10: 0.0019\n"
     ]
    }
   ],
   "source": [
    "# Results for just the second PC\n",
    "result = paraphrase_ranking(X[:,1:], correct)\n",
    "print(\"Median rank: {}\".format(np.median(result['ranks'])))\n",
    "print(\"Recall @ 10: {}\".format(np.mean(result['recall'][10])))"
   ]
  },
  {
   "cell_type": "code",
   "execution_count": 9,
   "metadata": {},
   "outputs": [
    {
     "name": "stdout",
     "output_type": "stream",
     "text": [
      "PC1\n",
      "Median rank: 10.0\n",
      "Recall @ 10: 0.21705\n",
      "PC2\n",
      "Median rank: 25.0\n",
      "Recall @ 10: 0.09165\n",
      "PC1 PC2\n",
      "Median rank: 10.0\n",
      "Recall @ 10: 0.21705\n"
     ]
    }
   ],
   "source": [
    "# Hmm maybe we need euclidean with just a single dim\n",
    "print(\"PC1\")\n",
    "result = paraphrase_ranking(X[:,0:], correct, metric='euclidean')\n",
    "print(\"Median rank: {}\".format(np.median(result['ranks'])))\n",
    "print(\"Recall @ 10: {}\".format(np.mean(result['recall'][10])))\n",
    "print(\"PC2\")\n",
    "result = paraphrase_ranking(X[:,1:], correct, metric='euclidean')\n",
    "print(\"Median rank: {}\".format(np.median(result['ranks'])))\n",
    "print(\"Recall @ 10: {}\".format(np.mean(result['recall'][10])))\n",
    "print(\"PC1 PC2\")\n",
    "result = paraphrase_ranking(X[:,:], correct, metric='euclidean')\n",
    "print(\"Median rank: {}\".format(np.median(result['ranks'])))\n",
    "print(\"Recall @ 10: {}\".format(np.mean(result['recall'][10])))\n"
   ]
  },
  {
   "cell_type": "code",
   "execution_count": 10,
   "metadata": {},
   "outputs": [
    {
     "name": "stdout",
     "output_type": "stream",
     "text": [
      "Populating the interactive namespace from numpy and matplotlib\n"
     ]
    }
   ],
   "source": [
    "%pylab inline --no-import-all"
   ]
  },
  {
   "cell_type": "code",
   "execution_count": 11,
   "metadata": {},
   "outputs": [
    {
     "data": {
      "text/plain": [
       "<matplotlib.collections.PathCollection at 0x7f0450cf74e0>"
      ]
     },
     "execution_count": 11,
     "metadata": {},
     "output_type": "execute_result"
    },
    {
     "data": {
      "image/png": "[encoded data removed]",
      "text/plain": [
       "<matplotlib.figure.Figure at 0x7f045101fd30>"
      ]
     },
     "metadata": {},
     "output_type": "display_data"
    }
   ],
   "source": [
    "# What does the PCA space look like\n",
    "\n",
    "pylab.scatter(X[:, 0], X[:,1], alpha=0.3)"
   ]
  },
  {
   "cell_type": "code",
   "execution_count": 12,
   "metadata": {},
   "outputs": [
    {
     "name": "stdout",
     "output_type": "stream",
     "text": [
      "A bride folds her arms at a beach .\n",
      "True 6977 flickr8k_66 0.99999994 A girl wears a fancy dress and a tiara .\n",
      "False 6978 flickr8k_17 0.9999998 A man in red rock climbing .\n",
      "False 6978 flickr8k_11 0.99999976 Someone climbing a rock upside down\n",
      "True 6977 flickr8k_21 0.9999997 a woman wear a fancy dress and tiara on a beach\n",
      "False 6978 flickr8k_49 0.99999964 Men try to climb up a large rock .\n",
      "False 6978 flickr8k_4 0.9999995 Two men are climbing on an interestingly shaped rock feature .\n",
      "False 6976 flickr8k_92 0.9999993 A young girl in a striped shirt wears a bowl on her head .\n",
      "False 6976 flickr8k_9 0.99999905 A little girl smiles as she wears a white bowl on the top of her head .\n",
      "False 6976 flickr8k_111 0.9999977 A young girl sitting at a table with a bowl on her head\n",
      "False 6979 flickr8k_91 0.99999714 A man poses for a little girl , his arms outstretched , with a large church in the background .\n",
      "False 6978 flickr8k_5 0.9999932 A person in a red shirt is holding on to a natural formation .\n",
      "False 6976 flickr8k_33 0.9999883 A smiling young girl sitting at a table has an upturned bowl on her head .\n",
      "True 6977 flickr8k_71 0.9999865 A woman in white , wearing a tiara , the beach in the background .\n",
      "Counter({6978: 5, 6976: 4, 6977: 3, 6979: 1})\n",
      "\n",
      "A crowd of people views newspaper covers in Washington D.C.\n",
      "True 6186 flickr8k_6 1.0 A crowd of people in front of a memorial in Washington DC .\n",
      "True 6186 flickr8k_28 0.99999994 A group dressed in wintery attire of people on a sidewalk in Washington D.C.\n",
      "False 6209 flickr8k_30 0.99999994 A man doing tricks on a bicycle .\n",
      "False 6188 flickr8k_124 0.99999994 A man wearing a yellow shirt is doing a trick high in the air with his bike .\n",
      "False 6187 flickr8k_145 0.9999999 A black dog is carrying a white dog toy through a field of high grass .\n",
      "False 6210 flickr8k_4 0.9999998 The courtyard of a South American city with a crowd and vintage cars .\n",
      "False 6187 flickr8k_42 0.9999997 A black dog with a white toy in his mouth in a field of grass .\n",
      "False 6187 flickr8k_10 0.9999996 A black Labrador retriever in a grassy field returns with a white nubby cylinder in its mouth .\n",
      "True 6186 flickr8k_54 0.99999946 Large group of people standing outside of a building .\n",
      "False 6188 flickr8k_43 0.99999905 A guy in a yellow shirt with a bike gets very high in the air .\n",
      "False 6209 flickr8k_14 0.9999986 A man falls off a brick wall while still on his bike .\n",
      "False 6208 flickr8k_42 0.9999986 A man , woman , and little girl walk along a boardwalk beside a calm sea .\n",
      "False 6209 flickr8k_17 0.99999857 A BMW rider takes a large jump off a wall .\n",
      "Counter({6186: 3, 6209: 3, 6187: 3, 6188: 2, 6210: 1, 6208: 1})\n",
      "\n",
      "A boy is jumping forwards down a water slide .\n",
      "False 6731 flickr8k_19 1.0 A man driving a four-wheeler off-road .\n",
      "False 6731 flickr8k_9 1.0 person wearing a helmet on a four wheeled bike in air\n",
      "False 6729 flickr8k_9 1.0 A little kid stands and looks at the military guard who is guarding a building .\n",
      "False 6301 flickr8k_7 1.0 A guy on a bike goes vertical near a ramp with a grassy , hilly terrain behind him .\n",
      "False 6301 flickr8k_24 1.0 A bike rider on a ramp .\n",
      "False 6301 flickr8k_128 0.99999994 A boy doing a bike trick is in midair waiting to come back down .\n",
      "False 6732 flickr8k_2 0.99999994 A family surrounds a baby in the father 's lap .\n",
      "True 6730 flickr8k_87 0.99999994 A person in swim trunks jumping down an inflatable slide\n",
      "False 6303 flickr8k_7 0.99999994 A man in a gray shirt and black shorts poses in front of a mountain .\n",
      "False 6731 flickr8k_60 0.99999994 The man does a trick on the fourwheeler .\n",
      "False 6303 flickr8k_6 0.9999999 A man wearing glasses stands in front of a snowy mountain .\n",
      "False 6732 flickr8k_2 0.9999999 a family gathers in the living room .\n",
      "False 6300 flickr8k_156 0.9999999 A young man is wearing a brown hat and sunglasses .\n",
      "Counter({6731: 3, 6301: 3, 6732: 2, 6303: 2, 6729: 1, 6730: 1, 6300: 1})\n",
      "\n",
      "The person is throwing a yellow object in the air while standing on sand .\n",
      "False 6384 flickr8k_11 1.0 A woman with pink hair dressed in black talks to a man .\n",
      "False 6386 flickr8k_17 1.0 Three women are standing among a group of brown dogs .\n",
      "False 6384 flickr8k_24 0.99999994 A girl with bright red hair and black clothes is posing on a tree trunk .\n",
      "False 6914 flickr8k_92 0.9999998 A skateboarder is doing a trick at the top of a ramp while another person watches .\n",
      "False 6912 flickr8k_17 0.99999976 Four girls are dancing in matching outfits at a street festival .\n",
      "False 6913 flickr8k_7 0.9999997 Africans gather water at an outdoor tap .\n",
      "False 6914 flickr8k_19 0.99999964 A teenage boy does a skateboard trick on a half pipe while another boy watches from the top .\n",
      "True 6385 flickr8k_49 0.99999964 A boy with glasses on standing in the sand throws a yellow balloon in the air .\n",
      "False 6386 flickr8k_16 0.99999964 There are 5 brown dogs on leashes with their owners nearby .\n",
      "False 6913 flickr8k_5 0.9999996 A tribal group filling water jugs in the desert .\n",
      "False 6912 flickr8k_2 0.9999995 Some girls dressed in blue perform a dance .\n",
      "False 6384 flickr8k_17 0.9999994 A red haired woman in black is posing for a man while resting on a tree .\n",
      "False 6386 flickr8k_19 0.99999934 A group of brown dogs are standing on a road with 3 people .\n",
      "Counter({6384: 3, 6386: 3, 6914: 2, 6912: 2, 6913: 2, 6385: 1})\n",
      "\n",
      "two people sit on a park bench .\n",
      "False 6754 flickr8k_52 0.99999976 A large dog sits in the grass .\n",
      "False 6641 flickr8k_19 0.9999997 a boy flings sand at a girl .\n",
      "False 6641 flickr8k_4 0.9999997 Boy flings mud at girl\n",
      "True 6642 flickr8k_108 0.99999964 Two people sit on a brick wall and talk .\n",
      "False 6754 flickr8k_52 0.9999993 A large tan dog sits on the edge of the woods .\n",
      "False 6752 flickr8k_7 0.9999987 two little kids having fun at a roller coaster\n",
      "False 6640 flickr8k_4 0.99999857 Four children climbing up a snow covered hill .\n",
      "False 6752 flickr8k_9 0.9999984 Children on a ride at an amusement park .\n",
      "False 6752 flickr8k_7 0.9999982 Two children swing around on a carnival ride .\n",
      "False 6754 flickr8k_25 0.9999981 The large brown dog is sitting on the path next to a tree .\n",
      "False 6753 flickr8k_27 0.9999979 Two people in a tent near a rock wall .\n",
      "False 6753 flickr8k_17 0.9999978 Two people are in a tent near a brick wall .\n",
      "False 6641 flickr8k_7 0.99999774 A boy and a girl at the beach , throwing sand .\n",
      "Counter({6754: 3, 6641: 3, 6752: 3, 6753: 2, 6642: 1, 6640: 1})\n",
      "\n"
     ]
    }
   ],
   "source": [
    "# The retrieval scores are pretty decent\n",
    "# Let's see some nearest neighbors\n",
    "from collections import Counter\n",
    "from sklearn.metrics.pairwise import cosine_similarity\n",
    "sim = cosine_similarity(X)\n",
    "for i in range(0, 1000, 200):\n",
    "    count = Counter()\n",
    "    print(sent[i]['raw'])\n",
    "    for k in range(1, 15):\n",
    "        j = sim[i].argsort()[-k]\n",
    "        if i != j:\n",
    "            print(correct[i][j], sent[j]['imgid'], sent[j]['speaker'], sim[i,j], sent[j]['raw'])\n",
    "            count.update([sent[j]['imgid']])\n",
    "    print(count)\n",
    "    print()\n",
    "    "
   ]
  },
  {
   "cell_type": "code",
   "execution_count": 13,
   "metadata": {},
   "outputs": [
    {
     "name": "stdout",
     "output_type": "stream",
     "text": [
      "(0.06293929663065387, 8.437016492050564e-06)\n",
      "(0.5302965071000647, 0.0)\n"
     ]
    }
   ],
   "source": [
    "# How correlated are these components with utterance length?\n",
    "import scipy.stats\n",
    "L = np.array([s['audio'].shape[0] for s in sent])\n",
    "print(scipy.stats.pearsonr(X[:,0], L))\n",
    "print(scipy.stats.pearsonr(X[:,1], L))"
   ]
  },
  {
   "cell_type": "code",
   "execution_count": 14,
   "metadata": {},
   "outputs": [
    {
     "name": "stdout",
     "output_type": "stream",
     "text": [
      "Median rank: 749.0\n",
      "Recall @ 10: 0.0021\n"
     ]
    }
   ],
   "source": [
    "# Results for utterance length\n",
    "result = paraphrase_ranking(L.reshape((len(L), 1)), correct, metric='euclidean')\n",
    "print(\"Median rank: {}\".format(np.median(result['ranks'])))\n",
    "print(\"Recall @ 10: {}\".format(np.mean(result['recall'][10])))"
   ]
  },
  {
   "cell_type": "code",
   "execution_count": 15,
   "metadata": {},
   "outputs": [],
   "source": [
    "# We will pick N random utterances, and compute counts of image ids among 10 nearest neighbors.\n",
    "from collections import Counter\n",
    "from sklearn.metrics.pairwise import cosine_similarity, cosine_distances, euclidean_distances\n",
    "\n",
    "def purity(sim, size=100, seed=123, neighborhood=10):\n",
    "    random.seed(666)\n",
    "    maxes = []\n",
    "    maxes_r = []\n",
    "    for i in random.sample(range(len(sim)), size):\n",
    "        count = Counter()\n",
    "        for k in range(1, neighborhood):\n",
    "            j = sim[i].argsort()[k]\n",
    "            count.update([sent[j]['imgid']])\n",
    "        maxes.append(max(count.values()))\n",
    "        count = Counter()\n",
    "        for k in random.sample(range(len(sim)), neighborhood):\n",
    "            j = k\n",
    "            count.update([sent[j]['imgid']])\n",
    "        maxes_r.append(max(count.values()))\n",
    "    return numpy.array(maxes), numpy.array(maxes_r)"
   ]
  },
  {
   "cell_type": "code",
   "execution_count": 17,
   "metadata": {},
   "outputs": [
    {
     "name": "stdout",
     "output_type": "stream",
     "text": [
      "K M dist space rand neighbor\n",
      "1000 5 cos emb 1.007 1.055\n",
      "1000 5 cos pca 1.007 1.44\n",
      "1000 5 euc emb 1.007 1.055\n",
      "1000 5 euc pca 1.007 1.477\n",
      "1000 10 cos emb 1.043 1.229\n",
      "1000 10 cos pca 1.043 2.326\n",
      "1000 10 euc emb 1.043 1.284\n",
      "1000 10 euc pca 1.043 2.347\n",
      "1000 20 cos emb 1.144 1.656\n",
      "1000 20 cos pca 1.144 3.369\n",
      "1000 20 euc emb 1.144 1.796\n",
      "1000 20 euc pca 1.144 3.421\n",
      "1000 40 cos emb 1.469 2.214\n",
      "1000 40 cos pca 1.469 4.403\n",
      "1000 40 euc emb 1.469 2.42\n",
      "1000 40 euc pca 1.469 4.433\n",
      "1000 80 cos emb 1.975 2.922\n",
      "1000 80 cos pca 1.975 4.846\n",
      "1000 80 euc emb 1.975 3.255\n",
      "1000 80 euc pca 1.975 4.854\n"
     ]
    }
   ],
   "source": [
    "K = 1000\n",
    "Ms = [5, 10, 20, 40, 80]\n",
    "print(\"K M dist space rand neighbor\")\n",
    "for M in Ms: \n",
    "    for ndist, dist in [('cos',cosine_distances), ('euc', euclidean_distances)]:\n",
    "        for nspace, space in [('emb', emb), ('pca', X)]:\n",
    "            close, rand = purity(dist(space), size=K, neighborhood=M)\n",
    "            print(\"{} {} {} {} {} {}\".format(K, M, ndist, nspace, numpy.mean(rand), numpy.mean(close)))"
   ]
  },
  {
   "cell_type": "code",
   "execution_count": null,
   "metadata": {},
   "outputs": [],
   "source": []
  }
 ],
 "metadata": {
  "kernelspec": {
   "display_name": "Python 3",
   "language": "python",
   "name": "python3"
  },
  "language_info": {
   "codemirror_mode": {
    "name": "ipython",
    "version": 3
   },
   "file_extension": ".py",
   "mimetype": "text/x-python",
   "name": "python",
   "nbconvert_exporter": "python",
   "pygments_lexer": "ipython3",
   "version": "3.6.3"
  }
 },
 "nbformat": 4,
 "nbformat_minor": 2
}

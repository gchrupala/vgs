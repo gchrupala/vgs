{
 "cells": [
  {
   "cell_type": "markdown",
   "metadata": {},
   "source": [
    "# On the difficulty of a distributional semantics of speech\n",
    "Grzegorz Chrupała, Ákos Kádár, Lieke Gelderloos, Afra Alishahi"
   ]
  },
  {
   "cell_type": "markdown",
   "metadata": {},
   "source": [
    "# Table 1 (results on Synthetically Spoken COCO)"
   ]
  },
  {
   "cell_type": "code",
   "execution_count": 1,
   "metadata": {},
   "outputs": [],
   "source": [
    "from vg.vendrov_provider import Provider\n",
    "prov = Provider('coco', root='..', audio_kind='mfcc')"
   ]
  },
  {
   "cell_type": "code",
   "execution_count": 3,
   "metadata": {},
   "outputs": [],
   "source": [
    "import vg.scorer as S\n",
    "audio = lambda x: x['audio']\n",
    "config = dict(split='val', tokenize=audio, batch_size=32)\n",
    "scorer = S.Scorer(prov, config)"
   ]
  },
  {
   "cell_type": "code",
   "execution_count": 4,
   "metadata": {},
   "outputs": [],
   "source": [
    "import numpy as np\n",
    "import torch\n",
    "seed = 666\n",
    "torch.cuda.manual_seed_all(seed)\n",
    "import torch.autograd as autograd\n",
    "class MeanNet:\n",
    "    def __init__(self):\n",
    "        self.training = False\n",
    "    def eval(self):\n",
    "        pass\n",
    "    \n",
    "    def predict(self, x):\n",
    "        return x.mean(dim=1)\n",
    "    \n",
    "class RandNet:\n",
    "    def __init__(self, features=1024):\n",
    "        self.training = False\n",
    "        self.features = features\n",
    "    \n",
    "    def eval(self):\n",
    "        pass\n",
    "        \n",
    "    def predict(self, x):\n",
    "        return autograd.Variable(torch.FloatTensor(x.size(0), self.features).uniform_(-1, 1))\n",
    "    "
   ]
  },
  {
   "cell_type": "code",
   "execution_count": 5,
   "metadata": {},
   "outputs": [
    {
     "name": "stdout",
     "output_type": "stream",
     "text": [
      "Model R@10 Medianr RSA_img\n",
      "MFCC 0.0058 1413.5 0.02\n",
      "Chance 0.00031 3955.0 -7.3e-05\n",
      "SegMatch 0.1 37.0 0.5\n",
      "audio2vecu 0.047 105.0 -0.004\n",
      "audio2vecc 0.016 647.0 -0.005\n"
     ]
    }
   ],
   "source": [
    "print(\"Model R@10 Medianr RSA_img\")\n",
    "for name, net in [(\"MFCC\", MeanNet()), (\"Chance\", RandNet())]:\n",
    "    ret = scorer.retrieval_para(net)\n",
    "    rsa = scorer.rsa_image(net)\n",
    "    print(\"{} {:.2} {} {:.2}\".format(name, ret['recall@10'], ret['medr'], rsa['img_rep']))\n",
    "\n",
    "nets = dict(SegMatch=\"../experiments/coco-audiosemi-gru-er-15-b/model.r.e12.zip\",\n",
    "            #Audio2vecc=\"../experiments/coco-audio2vecc/model.1.pkl\" # this is misbehavin!\n",
    "            audio2vecc=\"../experiments/coco-audio2vec-gru-a/model.r.e4.zip\",\n",
    "            audio2vecu=\"../experiments/coco-audio2vecu-B/model.r.e5.zip\")\n",
    "\n",
    "for name, path in nets.items():\n",
    "    net = S.load(path).cuda()\n",
    "    ret = scorer.retrieval_para(net)\n",
    "    rsa = scorer.rsa_image(net)\n",
    "    print(\"{} {:.2} {} {:.2}\".format(name, ret['recall@10'], ret['medr'], rsa['img_rep']))"
   ]
  },
  {
   "cell_type": "markdown",
   "metadata": {},
   "source": [
    "## Visually grounded"
   ]
  },
  {
   "cell_type": "code",
   "execution_count": 6,
   "metadata": {},
   "outputs": [
    {
     "name": "stderr",
     "output_type": "stream",
     "text": [
      "Warning: could not read file ../data/coco/dataset.ipa.jsonl.gz: IPA transcription not available\n"
     ]
    }
   ],
   "source": [
    "import imaginet.defn.audiovis_rhn as audiovis\n",
    "from vg.vendrov_provider import Provider\n",
    "prov = Provider('coco', root='..', audio_kind='mfcc')"
   ]
  },
  {
   "cell_type": "code",
   "execution_count": 10,
   "metadata": {},
   "outputs": [],
   "source": [
    "import numpy\n",
    "import imaginet.task \n",
    "model_path = \"/roaming/gchrupal/visually-grounded-speech/models/coco-speech.zip\"\n",
    "model = imaginet.task.load(model_path)\n",
    "mfcc = numpy.array([s['audio'] for s in prov.iterSentences(split='val') ])\n",
    "pred = audiovis.encode_sentences(model, mfcc)"
   ]
  },
  {
   "cell_type": "code",
   "execution_count": 11,
   "metadata": {},
   "outputs": [],
   "source": [
    "import vg.scorer as S\n",
    "audio = lambda x: x['audio']\n",
    "config = dict(split='val', tokenize=audio, batch_size=32)\n",
    "scorer = S.Scorer(prov, config)\n",
    "scorer.pred = pred #HACKY!"
   ]
  },
  {
   "cell_type": "code",
   "execution_count": 14,
   "metadata": {},
   "outputs": [
    {
     "name": "stdout",
     "output_type": "stream",
     "text": [
      "Model R@10 Medianr RSA_img\n",
      "VGS 0.28 6.0 0.41\n"
     ]
    }
   ],
   "source": [
    "print(\"Model R@10 Medianr RSA_img\")\n",
    "ret = scorer.retrieval_para()\n",
    "rsa = scorer.rsa_image()\n",
    "print(\"{} {:.2} {} {:.2}\".format(\"VGS\", ret['recall@10'], ret['medr'], rsa['img_rep']))"
   ]
  },
  {
   "cell_type": "code",
   "execution_count": null,
   "metadata": {},
   "outputs": [],
   "source": []
  }
 ],
 "metadata": {
  "kernelspec": {
   "display_name": "Python 3",
   "language": "python",
   "name": "python3"
  },
  "language_info": {
   "codemirror_mode": {
    "name": "ipython",
    "version": 3
   },
   "file_extension": ".py",
   "mimetype": "text/x-python",
   "name": "python",
   "nbconvert_exporter": "python",
   "pygments_lexer": "ipython3",
   "version": "3.5.3"
  }
 },
 "nbformat": 4,
 "nbformat_minor": 2
}
